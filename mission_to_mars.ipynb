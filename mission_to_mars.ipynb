{
 "cells": [
  {
   "cell_type": "code",
   "execution_count": 6,
   "metadata": {},
   "outputs": [],
   "source": [
    "#dependencies and set up\n",
    "import pandas as pd \n",
    "from bs4 import BeautifulSoup as bs\n",
    "import requests \n",
    "from splinter import Browser\n",
    "import time\n",
    "from urllib.parse import urljoin\n",
    "#set up Chromedriver\n",
    "executable_path = {'executable_path': 'chromedriver.exe'}\n",
    "browser = Browser('chrome', **executable_path, headless=False)"
   ]
  },
  {
   "cell_type": "code",
   "execution_count": 2,
   "metadata": {
    "scrolled": true
   },
   "outputs": [],
   "source": [
    "#visit the nasa website with chromedriver\n",
    "url = \"https://mars.nasa.gov/news/?page=0&per_page=40&order=publish_date+desc%2Ccreated_at+desc&search=&category=19%2C165%2C184%2C204&blank_scope=Latest\"\n",
    "browser.visit(url)\n",
    "\n",
    "#create the soup\n",
    "html = browser.html\n",
    "nasa_soup = bs(html, 'html.parser')"
   ]
  },
  {
   "cell_type": "code",
   "execution_count": 3,
   "metadata": {},
   "outputs": [],
   "source": [
    "time.sleep(1)"
   ]
  },
  {
   "cell_type": "code",
   "execution_count": 4,
   "metadata": {
    "scrolled": true
   },
   "outputs": [
    {
     "name": "stdout",
     "output_type": "stream",
     "text": [
      "NASA's Perseverance Pays Off Back Home\n",
      "Even as the Perseverance rover approaches Mars, technology on board is paying off on Earth.NASA's Perseverance Pays Off Back Home\n"
     ]
    }
   ],
   "source": [
    "latest_article = nasa_soup.find('li', class_='slide')\n",
    "latest_title = latest_article.find('div', class_='content_title').text\n",
    "news_p = latest_article.a.text\n",
    "print(latest_title)\n",
    "print(news_p)"
   ]
  },
  {
   "cell_type": "code",
   "execution_count": 5,
   "metadata": {},
   "outputs": [],
   "source": [
    "# articles = nasa_soup.find('li', class_='slide')\n",
    "# for article in articles: \n",
    "#     title = article.find('div', class_='content_title').text\n",
    "#     p = article.a.text\n",
    "# #     latest_paragraph = article.\n",
    "#     print(f'Title: {title} \\n')\n",
    "#     print(f'Paragraph: {p}')\n",
    "#     print('_______________')"
   ]
  },
  {
   "cell_type": "code",
   "execution_count": 16,
   "metadata": {},
   "outputs": [],
   "source": [
    "browser.quit()"
   ]
  },
  {
   "cell_type": "code",
   "execution_count": 7,
   "metadata": {},
   "outputs": [],
   "source": [
    "executable_path = {'executable_path': 'chromedriver.exe'}\n",
    "browser = Browser('chrome', **executable_path, headless=True)"
   ]
  },
  {
   "cell_type": "code",
   "execution_count": 7,
   "metadata": {
    "scrolled": true
   },
   "outputs": [
    {
     "name": "stderr",
     "output_type": "stream",
     "text": [
      "C:\\Users\\im022\\anaconda3\\lib\\site-packages\\splinter\\driver\\webdriver\\__init__.py:474: FutureWarning: browser.find_link_by_href is deprecated. Use browser.links.find_by_href instead.\n",
      "  warnings.warn(\n"
     ]
    },
    {
     "data": {
      "text/plain": [
       "'https://mars.nasa.gov/system/resources/detail_files/25564_spinoff-1200.jpg'"
      ]
     },
     "execution_count": 7,
     "metadata": {},
     "output_type": "execute_result"
    }
   ],
   "source": [
    "#Visit JPL website\n",
    "# jpl_url = 'https://www.jpl.nasa.gov/spaceimages/?search=&category=Mars'\n",
    "# NOTE: JPL's website redesigned where images are located... the url below is the new location to find latest mars featured images\n",
    "jpl_url = 'https://mars.nasa.gov/multimedia/images/?page=0&per_page=25&order=pub_date+desc&search=&condition_1=1%3Ais_in_resource_list&category=51'\n",
    "browser.visit(jpl_url)\n",
    "#create soup for jpl site \n",
    "time.sleep(2)\n",
    "jpl_html = browser.html\n",
    "jpl_soup = bs(jpl_html, 'html.parser')\n",
    "\n",
    "#navigate to the featured image's page \n",
    "item = jpl_soup.find('ul', class_='item_list')\n",
    "latest_item = item.li\n",
    "pic_href = latest_item.a['href']\n",
    "browser.click_link_by_href(pic_href)\n",
    "#create soup for the new page and store image url in new variable\n",
    "jpl_image_page = browser.html\n",
    "jpl_image_page_soup = bs(jpl_image_page, 'html.parser') \n",
    "image_anchor = jpl_image_page_soup.find('a', class_='fancybox')\n",
    "image_link = image_anchor.find('img')['src']\n",
    "\n",
    "#use urljoin to get full image url\n",
    "base = 'https://mars.nasa.gov'\n",
    "featured_image_url = urljoin(base, image_link)\n",
    "featured_image_url"
   ]
  },
  {
   "cell_type": "code",
   "execution_count": 9,
   "metadata": {},
   "outputs": [],
   "source": [
    "#load page for mars facts \n",
    "mars_facts = 'https://space-facts.com/mars/'\n",
    "browser.visit(mars_facts)\n",
    "facts_html = browser.html"
   ]
  },
  {
   "cell_type": "code",
   "execution_count": 10,
   "metadata": {
    "scrolled": true
   },
   "outputs": [],
   "source": [
    "# scrape mars facts using pandas\n",
    "facts = pd.read_html(facts_html)\n",
    "table = facts[0]\n",
    "#write table to html \n",
    "table_html = table.to_html()\n"
   ]
  },
  {
   "cell_type": "code",
   "execution_count": 11,
   "metadata": {},
   "outputs": [],
   "source": [
    "#visit usgs site \n",
    "usgs = 'https://astrogeology.usgs.gov/search/results?q=hemisphere+enhanced&k1=target&v1=Mars'\n",
    "browser.visit(usgs)\n",
    "usgs_html = browser.html \n",
    "usgs_soup = bs(usgs_html)\n",
    "    \n"
   ]
  },
  {
   "cell_type": "code",
   "execution_count": 12,
   "metadata": {},
   "outputs": [
    {
     "data": {
      "text/plain": [
       "['Cerberus Hemisphere Enhanced',\n",
       " 'Schiaparelli Hemisphere Enhanced',\n",
       " 'Syrtis Major Hemisphere Enhanced',\n",
       " 'Valles Marineris Hemisphere Enhanced']"
      ]
     },
     "execution_count": 12,
     "metadata": {},
     "output_type": "execute_result"
    }
   ],
   "source": [
    "#make list of links to visit \n",
    "links = usgs_soup.find_all('div', class_='item')\n",
    "links_list = []\n",
    "for link in links:\n",
    "    links_list.append(link.h3.text)\n",
    "links_list"
   ]
  },
  {
   "cell_type": "code",
   "execution_count": 13,
   "metadata": {
    "scrolled": true
   },
   "outputs": [
    {
     "name": "stderr",
     "output_type": "stream",
     "text": [
      "C:\\Users\\im022\\anaconda3\\lib\\site-packages\\splinter\\driver\\webdriver\\__init__.py:490: FutureWarning: browser.find_link_by_partial_text is deprecated. Use browser.links.find_by_partial_text instead.\n",
      "  warnings.warn(\n"
     ]
    }
   ],
   "source": [
    "hemisphere_urls = []\n",
    "for link in links_list:\n",
    "    browser.click_link_by_partial_text(link)\n",
    "    browser.click_link_by_partial_text('Sample')\n",
    "    image_link = browser.url\n",
    "    info_dict = dict({\"title\":link, \"img_url\":image_link})\n",
    "#     print(info_dict)\n",
    "    hemisphere_urls.append(info_dict)\n",
    "    browser.visit(usgs)"
   ]
  },
  {
   "cell_type": "code",
   "execution_count": 14,
   "metadata": {
    "scrolled": true
   },
   "outputs": [
    {
     "data": {
      "text/plain": [
       "[{'title': 'Cerberus Hemisphere Enhanced',\n",
       "  'img_url': 'https://astrogeology.usgs.gov/search/map/Mars/Viking/cerberus_enhanced'},\n",
       " {'title': 'Schiaparelli Hemisphere Enhanced',\n",
       "  'img_url': 'https://astrogeology.usgs.gov/search/map/Mars/Viking/schiaparelli_enhanced'},\n",
       " {'title': 'Syrtis Major Hemisphere Enhanced',\n",
       "  'img_url': 'https://astrogeology.usgs.gov/search/map/Mars/Viking/syrtis_major_enhanced'},\n",
       " {'title': 'Valles Marineris Hemisphere Enhanced',\n",
       "  'img_url': 'https://astrogeology.usgs.gov/search/map/Mars/Viking/valles_marineris_enhanced'}]"
      ]
     },
     "execution_count": 14,
     "metadata": {},
     "output_type": "execute_result"
    }
   ],
   "source": [
    "#check to see if all info was appended to hemisphere_urls \n",
    "hemisphere_urls"
   ]
  },
  {
   "cell_type": "code",
   "execution_count": 15,
   "metadata": {},
   "outputs": [],
   "source": [
    "# Mongo"
   ]
  }
 ],
 "metadata": {
  "kernelspec": {
   "display_name": "Python 3",
   "language": "python",
   "name": "python3"
  },
  "language_info": {
   "codemirror_mode": {
    "name": "ipython",
    "version": 3
   },
   "file_extension": ".py",
   "mimetype": "text/x-python",
   "name": "python",
   "nbconvert_exporter": "python",
   "pygments_lexer": "ipython3",
   "version": "3.8.3"
  }
 },
 "nbformat": 4,
 "nbformat_minor": 4
}
